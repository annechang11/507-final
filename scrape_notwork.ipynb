{
 "cells": [
  {
   "cell_type": "code",
   "execution_count": 1,
   "metadata": {},
   "outputs": [],
   "source": [
    "from bs4 import BeautifulSoup\n",
    "import requests\n",
    "import time\n",
    "import json"
   ]
  },
  {
   "cell_type": "code",
   "execution_count": 2,
   "metadata": {},
   "outputs": [],
   "source": [
    "BASE_URL = 'https://garden.org/plants/view/590371/Tomato-Solanum-lycopersicum-100-Pudov/'\n",
    "# COURSES_PATH = '/programs/courses'\n",
    "\n",
    "response = requests.get(BASE_URL)\n",
    "soup = BeautifulSoup(response.text, 'html.parser')"
   ]
  },
  {
   "cell_type": "code",
   "execution_count": 3,
   "metadata": {},
   "outputs": [
    {
     "name": "stdout",
     "output_type": "stream",
     "text": [
      "<!DOCTYPE html>\n",
      "<html lang=\"en-US\">\n",
      " <head>\n",
      "  <title>\n",
      "   Just a moment...\n",
      "  </title>\n",
      "  <meta content=\"text/html; charset=utf-8\" http-equiv=\"Content-Type\"/>\n",
      "  <meta content=\"IE=Edge\" http-equiv=\"X-UA-Compatible\"/>\n",
      "  <meta content=\"noindex,nofollow\" name=\"robots\"/>\n",
      "  <meta content=\"width=device-width,initial-scale=1\" name=\"viewport\"/>\n",
      "  <link href=\"/cdn-cgi/styles/challenges.css\" rel=\"stylesheet\"/>\n",
      " </head>\n",
      " <body class=\"no-js\">\n",
      "  <div class=\"main-wrapper\" role=\"main\">\n",
      "   <div class=\"main-content\">\n",
      "    <noscript>\n",
      "     <div id=\"challenge-error-title\">\n",
      "      <div class=\"h2\">\n",
      "       <span class=\"icon-wrapper\">\n",
      "        <div class=\"heading-icon warning-icon\">\n",
      "        </div>\n",
      "       </span>\n",
      "       <span id=\"challenge-error-text\">\n",
      "        Enable JavaScript and cookies to continue\n",
      "       </span>\n",
      "      </div>\n",
      "     </div>\n",
      "    </noscript>\n",
      "    <div id=\"trk_jschal_js\" style=\"display:none;background-image:url('/cdn-cgi/images/trace/managed/nojs/transparent.gif?ray=7b1250234df72ac6')\">\n",
      "    </div>\n",
      "    <form action=\"/plants/view/590371/Tomato-Solanum-lycopersicum-100-Pudov/?__cf_chl_f_tk=IohFXArTrUwuUVnK27iJ_7tkyMGBqcgwvaspokx97Qw-1680367637-0-gaNycGzNCqU\" enctype=\"application/x-www-form-urlencoded\" id=\"challenge-form\" method=\"POST\">\n",
      "     <input name=\"md\" type=\"hidden\" value=\"lk9IipvFqoqrJtxElPU8f7ZBz84ByuE.gfvk4fcoW6g-1680367637-0-AXutyTUJJAAVOFI-hyTyJ-58zdXh6-Q_MmLew56GHtMZEsrkReKMV00Q2mMoeBcU68kdPNJ4Tov09_P4BbuRPt0N9u6ocB4oXl8mE7sPMyD0zXsstOhmj7orFa9vykEF5O4nSzh0vkl8Qr5lczbvISRUwc5nA2R1DUt0wOyj9KlqUsjbWN3rDlHUR4tNKp2wjNE1TPWTLgtnekQkMucHl3yxsqUDEKcKg8enNodyARRdRNZNGdIKp6wu742AnOqNRlAH3GemZRKK_V90OKy8rkSXwjacnMSfMdbslAL1w7QsXvOPfzcV-fc-d4d6PGo-F4Rqfb_epTp-jEPiIXOl_75mrS_PI8_APFbPFiD97k_cYPQ1UJ5nORBrigArNgfMJzIpKRiNnWzBvIyfZbxtZxvjoQhH1RBSjBHj7982ypFMJEGkaav9nSAQgB5IDvK_KN8gP8WYJTV2J_9MR_7ig-Jfofybvmi2RrZev3BP63b3A5WGq8aFjYqCK2LW6CXwABmoAtK3_DrCj4DZttDiir0R9yV2kazIabqmLik1kvN0OT2zaB4mwU4w_eQqssYKxD9vwRS_hPpY6CvHIQhuxmdhB_bWi_nHSENLPiR0VkFNLKkPt4jN_brsshhsJ8BVcBkxGAGb9hOhqBq3r8A0Dd2o6gMTMqn_v_4O7LSP1zNnFR7Hi8mx6VycQ0msk7OQk6QNbv1ILGdnnIFTOiPwGLZSNRD29ciPW79OhByUkmwtNHvNugOm0V0_q7t3LUD-fXh_4FIGkdtunmu7TwawsUx84lMXS49gi5OqaWiXmUK19jx-JyaDMj7p22HlLgFcTnXiZeGFuioSPR6AVZhOsDzeBRLGA73t6Mc6DR1bNZL9w3d544fwEvaAf3QN_QBR1dXBjbNW1Jd1mdD3n9Qgrqjb1S_5GKsZ-Ztbv2JE32uRQv5rh4EMWge2gNiJAdLtWafz0q2B33-teBGLrWDl9EHrnMkaYAISGjBVtpDiF9qon5X6V4qc6OnGAS3XaoBV2fl9t3uUSFAsfAGMMwyZq4tiPhHiMC20L0MWryfHUPxIOm1T6Lxs5RVG0dW7wTJGfNF1TqSiL16dddKwKx62oInGac7b-k_Prs95KrqBgHzCtD5CpHiKfZ6lQn0BIr_ZdcRirG4wUL8-KBLFTRO1AEuiy3dkJFEWwIQCGdUUYmvlp2NS6HdC494I-SadKhF90Qykges__QkKZC7GlUaxBa0IE0_nmiyFaUiBr7Ro1HjgKy9lCEcE0rUmJu06i6ALIP0ftVjtPopsP2EOp0YY9MqP4aiA0inKekC7-hjc5GZZ5GPBtmnZxgIsr8SLRhzWo1GWKAT2_TbKPKgEwMQ3_-9nmP9GCKMWvrFpW1AAPtaO3gh9glI0hNykhtNo-6VncgXEKqI5dMOayrzCwNK8APW_XRDWedFQlkZm-SEgQZEZ3gm78Vglk6o132d0uQlpfsQOXLV-yjV8krAcDMqoz-AUwA16yYx19STkyRm4XyuYBZFARF19TQ0e1Ag_r1lClIvtc75IFPNeTIXmHatDfz6g3Bvd7j-hzZ95mIKyVIfD2mnyt2dqo8hDHLgHjo2s0JShrD3o0iKh4KJiFASlEOxMQ87bH2WSddnl31dxeZSYGrQNxV8AGIR3muGc3CUkBEORKQjsOeVURKBtUQPdUG9DjWVEgYK1xyYpCgd73bJVbyqMeztXFTbXhm4qnuh3FXcc-qumkp1jCyEHAAxKYtxycaAPeQXb9Q-YPrGI9awoWOKnFfseXLjQ5EbNm2F1V0uHZDPgMak1UwEhGYX-Z89Aut97OtOKWFuE5ANpaEUMyVdTgpXlxbd-hEMkWtO5AmCKdPJlnj7InDPNF9gRvQNfKpFgFy1RAUhJwQv_Xe2VtIQT-8F5TQhqC01cbHO75i3t7WCW2f_Hmk4TBpaGKHfVdCgNQRVh7NBk2IC4L5AuuCQWwQru8BfNLWfNfB16WxmhVguS1vv0C5VIfCX7jpSMzqFUGQJkXcrxjgwu5-cCDqWgj8yhJ630ryiDEKBrNuzqg9sV-45BbYssCv8WPk2yKPq85kJ4TmUWWsiZ-HajK_60LKCUtA7j-aMMant04LJ_Qys63Sj0PTXTc7t6yHD9zEbuo1a8wKv2x7cmuCvhNH-b-hy_XCBhDfY6q626No5_0SVXxJaxgCAErM72iYRX_Ciql1TUhuSuGc6Eb2nEAE0UnY7R40wcVDRtJI-iywlreS8HrIFRIPiquvXkmlQ3Pe0hNjxOgmR-FocizmajroRcnKn75dRxHPbjiyIe8MVN3JjXYRrmBK7EFlfoKo2uoMpXrkImpWwozGc_T5hSDCx5Qv8Nt2XERSBiGQz0aa0_If_7DRK-fAGL7X4V54b52mhnxsl0qJvAcbyg_t81IYD4OazdjLJLa-Da2JQ8v205tjDL_gKLTXZ1fxrcJExUBm5TDwdJeAzMiIqA4O7jW4ZR16DnRAdU8FKrsdARg0JpJobUoEd-D8waFfZj2naOHU_SyQlwMFDgxxCforRL7mMNO3lZrEIFl_l-s8osJ_v51KhHdmZNsjV36o7JPdzRVsx9Mnf3e8vrnzxCAbrh9nHLjkMV3rTPdjG3i6E1UkThbtJqrKKsA_6tWVnPKxB7PTob1mdJXA157mFdatOk\"/>\n",
      "    </form>\n",
      "   </div>\n",
      "  </div>\n",
      "  <script>\n",
      "   (function(){\n",
      "        window._cf_chl_opt={\n",
      "            cvId: '2',\n",
      "            cZone: 'garden.org',\n",
      "            cType: 'managed',\n",
      "            cNounce: '5597',\n",
      "            cRay: '7b1250234df72ac6',\n",
      "            cHash: '0dfe6d9954b0349',\n",
      "            cUPMDTk: \"\\/plants\\/view\\/590371\\/Tomato-Solanum-lycopersicum-100-Pudov\\/?__cf_chl_tk=IohFXArTrUwuUVnK27iJ_7tkyMGBqcgwvaspokx97Qw-1680367637-0-gaNycGzNCqU\",\n",
      "            cFPWv: 'b',\n",
      "            cTTimeMs: '1000',\n",
      "            cMTimeMs: '0',\n",
      "            cTplV: 5,\n",
      "            cTplB: 'cf',\n",
      "            cK: \"\",\n",
      "            cRq: {\n",
      "                ru: 'aHR0cHM6Ly9nYXJkZW4ub3JnL3BsYW50cy92aWV3LzU5MDM3MS9Ub21hdG8tU29sYW51bS1seWNvcGVyc2ljdW0tMTAwLVB1ZG92Lw==',\n",
      "                ra: 'cHl0aG9uLXJlcXVlc3RzLzIuMjguMQ==',\n",
      "                rm: 'R0VU',\n",
      "                d: 'Be1BSmviBHNMTbn4h3mvCVAQ8g191iBkbfAIwxC4oDlGxAOnQ6WHcYjzF2EQfpm9xhQPLiQArEy19f1rMD6pO9KCwJvqZES4ejvkXa8rzKRMhwd5O+zqBW7wi9dZY+122hZaMja0qAV8f3Ee4Dqx6YWwqWJSud58ooSltpq+QjB0MqNlP5QdbNZAPgG3GaByojwRjmiBNyhsfzClNsdEvkUVZn7h5C/My3Jis1BvY4lr9awwFtSGI51zxWOf5JvcHlFEfH4nJRKxIdP29hrCWH2xZ3592SqLu90dWsLz7IQL+Mz2cQstUh3LJez4nXYifXjnLstKBT7gsfgviNF+9XsOHJwAM+8qVYcHK/rIlMsdIEwzm5nKdstZc4pfeE2GX9935ntVh91udhUAQMS/e+Kd9ble5HxacSTxFCyhz4aBV6YXUXkwSwRn2FSl4mTfOXbRAxbLp7LiOb59Ag4aHBlbrdZ6AZJxoawfYBLW/D3XqF+M2R43AoheN0NRIOoeRYZDg3VNZ2/r+5RkcJhVWFKdjeVQ/xz6cc1Tq31NNGVjBPObF2OhjgqNjMWAWiCVRf+GN+8F+Jf7oph0KKmltgIK8vcFBiryQTFImSzr6l2jxcKLNp4K0dVSwWdPHNfT',\n",
      "                t: 'MTY4MDM2NzYzNy4wMDUwMDA=',\n",
      "                m: '+s30QV0Yxu1fjVlQjEgeb1sHjzx1ySrqEWRGfoV2stY=',\n",
      "                i1: 'nv9fnYjiTOuyiUDVZ+H/MA==',\n",
      "                i2: 'gRoK60eKU7A4kfiREnxBLA==',\n",
      "                zh: 'FNdAuCS9lVWvVLplcCL/vbEwD5J2vfzrta3r4A//pRI=',\n",
      "                uh: 'SLdVolODg++SO356HusO5I/hbfOpiiOxQXj62i/MUkA=',\n",
      "                hh: 'k4B4EH5Li8/R5qkr0r8p1ranheoUPn+9oJ1t3EJSl+8=',\n",
      "            }\n",
      "        };\n",
      "        var trkjs = document.createElement('img');\n",
      "        trkjs.setAttribute('src', '/cdn-cgi/images/trace/managed/js/transparent.gif?ray=7b1250234df72ac6');\n",
      "        trkjs.setAttribute('alt', '');\n",
      "        trkjs.setAttribute('style', 'display: none');\n",
      "        document.body.appendChild(trkjs);\n",
      "        var cpo = document.createElement('script');\n",
      "        cpo.src = '/cdn-cgi/challenge-platform/h/b/orchestrate/managed/v1?ray=7b1250234df72ac6';\n",
      "        window._cf_chl_opt.cOgUHash = location.hash === '' && location.href.indexOf('#') !== -1 ? '#' : location.hash;\n",
      "        window._cf_chl_opt.cOgUQuery = location.search === '' && location.href.slice(0, location.href.length - window._cf_chl_opt.cOgUHash.length).indexOf('?') !== -1 ? '?' : location.search;\n",
      "        if (window.history && window.history.replaceState) {\n",
      "            var ogU = location.pathname + window._cf_chl_opt.cOgUQuery + window._cf_chl_opt.cOgUHash;\n",
      "            history.replaceState(null, null, \"\\/plants\\/view\\/590371\\/Tomato-Solanum-lycopersicum-100-Pudov\\/?__cf_chl_rt_tk=IohFXArTrUwuUVnK27iJ_7tkyMGBqcgwvaspokx97Qw-1680367637-0-gaNycGzNCqU\" + window._cf_chl_opt.cOgUHash);\n",
      "            cpo.onload = function() {\n",
      "                history.replaceState(null, null, ogU);\n",
      "            };\n",
      "        }\n",
      "        document.getElementsByTagName('head')[0].appendChild(cpo);\n",
      "    }());\n",
      "  </script>\n",
      " </body>\n",
      "</html>\n",
      "\n"
     ]
    }
   ],
   "source": [
    "print(soup.prettify())"
   ]
  },
  {
   "cell_type": "code",
   "execution_count": 3,
   "metadata": {},
   "outputs": [],
   "source": [
    "script_tag = soup.find(\"script\")"
   ]
  },
  {
   "cell_type": "code",
   "execution_count": 4,
   "metadata": {},
   "outputs": [],
   "source": [
    "import re\n",
    "pattern = \"var data =(.+?);\\n\"\n",
    "raw_data = re.findall(pattern, script_tag.string, re.S)"
   ]
  },
  {
   "cell_type": "code",
   "execution_count": 6,
   "metadata": {},
   "outputs": [
    {
     "data": {
      "text/plain": [
       "[]"
      ]
     },
     "execution_count": 6,
     "metadata": {},
     "output_type": "execute_result"
    }
   ],
   "source": [
    "raw_data"
   ]
  },
  {
   "cell_type": "code",
   "execution_count": 5,
   "metadata": {},
   "outputs": [
    {
     "ename": "NameError",
     "evalue": "name 'data' is not defined",
     "output_type": "error",
     "traceback": [
      "\u001b[0;31m---------------------------------------------------------------------------\u001b[0m",
      "\u001b[0;31mNameError\u001b[0m                                 Traceback (most recent call last)",
      "Cell \u001b[0;32mIn[5], line 3\u001b[0m\n\u001b[1;32m      1\u001b[0m \u001b[39mif\u001b[39;00m raw_data:\n\u001b[1;32m      2\u001b[0m     data \u001b[39m=\u001b[39m json\u001b[39m.\u001b[39mloads(raw_data[\u001b[39m0\u001b[39m])\n\u001b[0;32m----> 3\u001b[0m \u001b[39mprint\u001b[39m(data)\n",
      "\u001b[0;31mNameError\u001b[0m: name 'data' is not defined"
     ]
    }
   ],
   "source": [
    "if raw_data:\n",
    "    data = json.loads(raw_data[0])\n",
    "print(data)"
   ]
  },
  {
   "cell_type": "code",
   "execution_count": 23,
   "metadata": {},
   "outputs": [
    {
     "name": "stdout",
     "output_type": "stream",
     "text": [
      "<!DOCTYPE html>\n",
      "<html lang=\"en-US\">\n",
      " <head>\n",
      "  <title>\n",
      "   Just a moment...\n",
      "  </title>\n",
      "  <meta content=\"text/html; charset=utf-8\" http-equiv=\"Content-Type\"/>\n",
      "  <meta content=\"IE=Edge\" http-equiv=\"X-UA-Compatible\"/>\n",
      "  <meta content=\"noindex,nofollow\" name=\"robots\"/>\n",
      "  <meta content=\"width=device-width,initial-scale=1\" name=\"viewport\"/>\n",
      "  <link href=\"/cdn-cgi/styles/challenges.css\" rel=\"stylesheet\"/>\n",
      " </head>\n",
      " <body class=\"no-js\">\n",
      "  <div class=\"main-wrapper\" role=\"main\">\n",
      "   <div class=\"main-content\">\n",
      "    <noscript>\n",
      "     <div id=\"challenge-error-title\">\n",
      "      <div class=\"h2\">\n",
      "       <span class=\"icon-wrapper\">\n",
      "        <div class=\"heading-icon warning-icon\">\n",
      "        </div>\n",
      "       </span>\n",
      "       <span id=\"challenge-error-text\">\n",
      "        Enable JavaScript and cookies to continue\n",
      "       </span>\n",
      "      </div>\n",
      "     </div>\n",
      "    </noscript>\n",
      "    <div id=\"trk_jschal_js\" style=\"display:none;background-image:url('/cdn-cgi/images/trace/managed/nojs/transparent.gif?ray=7b1205ebbbcb22e5')\">\n",
      "    </div>\n",
      "    <form action=\"/plants/view/590371/Tomato-Solanum-lycopersicum-100-Pudov/?__cf_chl_f_tk=qbj.yqSCw0ualMCaK5OcyoJDH_.XpHDVVBIV41r65xQ-1680364597-0-gaNycGzNCqU\" enctype=\"application/x-www-form-urlencoded\" id=\"challenge-form\" method=\"POST\">\n",
      "     <input name=\"md\" type=\"hidden\" value=\"2P1J_XqYcRU5A5lw.gE89JnUEMlUXet8jHpry0oPSV4-1680364597-0-AUJufLpeB06zDix_0kImluWqibop7Bkt36Rv39vhRg0jjOzQNGF5fnzz4fPH0d1M7S2q85FL8MCMZbdJjSOQmJMFoCuarb__t1wikmF4kUYpmXgvafBk3su4zrX6OFAYZerB8qzBKkr8Wmls9CbxZKA1UqfSXFO9bAmrLYwKNfBUwBFX-pg60FUT_yUcp5sreXj9sX5WPKtuwNdiNY6b3jk-JnuixgXUSjV_rlhNxd8Hj_6SOHHeipx-1jTslmr6wMu03YAnIG4Zrw31VmD7EhA44CGGg-Uwl4Y0_sADaCmobyxh67DZyzRZm4N_tKuFKiOjbuUzgu3hmJt2onQsINw5D_i0Mu9BYGBhGeLOlKFk0m3ad9-nLbWk0WMtnOYivC_tusMrJVccoMlzZH8uM17H1AMMnTshbIfjTjnNuOlnWK_-anILrOFmjdqvV48qYJA072as9jygx1FhDERsEfXe5SEEhAygmjpTpJYkKsmJOJYWLEsbbVxrSM0sbZqjVlIxgVOH9ESfD-6qzrnBNDXa3-oh3nJVXJ21MO18szB44-sRmr77TxE7MveQiEITj5e1IIPNV7P9LP2W8iXYfXEUSfj4ukoVFKefXvt72qTgLFx73T9gworrYRcchN7E0AWMT0EYPOBJUCgRgptqAfb8SVn5hGEPe_YMUphbbGJPm3JJ6LEWz_0ehD8qV7QBOFe9ZDby_EIS0pEeT6FRWqnjaNHrpt1ISaPrpDoCiWlTdEYnyBTUJS8Ua1UxwyZeaTzhX6FdTB2p_nEvrpG-_6NxZxM_dtynAaEqlEjB0IwGJRv_4IqpAQnwKY10kXU8m8gj_yCp9a-_gJUWVeg-RZYa6GoWVmHr-ip4dC5QM6-DuTqHXgQ6aP9pkGdrvHSsyufk8jsu4OSth1KpNmktnO9UVXhyLxlV7W9ID-61lpFS6QlBaAECFnjG29rKuxK0CPbSXaYfeIqOoqk-i5en0ofk9F6mpBU-7-9alQgbF8rnuc1cFdQ3Q3f0Q2JIe7AIDE5n22b8s8M5zVIZT2-xDp_1a5u6zIlxlC4qUPn6JMrz1ysJRL3eASo2Qc5s_ivyk5-6e0E-bhiO_h0ck73Z44_BgG9Ks8VRoFmODj4YAhcehu4laQcHoCNkkyDyuPBAFX6-NUg2JJeoVY-Ul4ykzRX5371kRK5b_BZ4YgktX_6_p9XiudqomfX6drl1IsO7LJ3jiDTb7RkT-ndvmfsgeg0rI150tge1TrdcXannebtT7Zi4V9Mp-Lot0ajGEQWHiciebdOb5HrxYO8_HpypNGrGHz1zreQoPnC5Z--_IT_IZtYr6M0pgDwPt86paJWtOqLumSFrxw5RiMgMNixLMv1OAKB4q_TEJZVSx4HrkZEuE58oKUROWsmhzGwWjK8B-TYgGqfJjVMdscyW-qTYqfMCfCw2eQnw-M-lAA1NaguU-3iLXYFJJcsNeX9DO0kYXPJy8KgptE4J8nVoXe4J09N16qefmg6G9KXXTYMMI1rO9D9n22RlwZDYaN-84mRCAVY-ybUhUyaXNA0qu9qwES9XCsxUbUHq-GmfqvunO2lLMlTA47tdTDED8G5_h7ZN2NW25S4u-e08F4uREuPHgWpOK8bh-XpgBQrx-pchzCvf8ZTGygf-WaeGHr_YUi9q5b4aiAZBhZwWKBL7at2WG46ARb1O93mpE3isSDW_eznb6B9B41gqjqW1XJb2x006VJqHjwZ2HA-BSmKt0zT0B9orVA2L_0glv0mgYRqOWc-uVtFily1lqXwxb21y6gvSWdogEgyeT_4a9qbSq-e8qY0XC41rOD-Kckj8BWw8VO9eAdnaQN0fw3ZiSyOjgLthwguRdzc67i8WcIZ-ccXleTn671q21vHA_K1DFf6AiTi_Cdz8IlupiQ5PRv4oi9lXR9HK9dBLYiPnhyORCl33ZVhztfgIpq35kVAFN5xm6kCJLR_AGFlOq-hStzRJmo8wYE4jvG_C7W4qYqgacTqW-4rp1n9T8IvFGER2pBmeDz5mW-48FYRs_bz6-OJmqL4MT8oL9fmRKZEDLtZFvnneA-o6mgVkHnS4_OwZ8Jwhnk0TNr0IzoAjNo_tARf92ippq_fAOh4-MDljwDfGW-vZzW0ntTNsuMPeQWXrv6XLgxKh1s3Qv9M2C-5amSyMJscaLaqW5cPExvkfcDxMmm5g2_faQKPAQvepnpXr0RmW3vkG0Ux4nqseMP-obVTfnWe57XSn3YoXoFOB5_XL5UoDpS_nr9x09WcGImDVsuhYK5N1A7TpabbPIll04KM1VYENF_wP6QEyOTAX0bmYNs_biNpBIm_gI9Y3fvE9KfA3RE9HxCwLvSNoAlLI8P1FKgibdQV90rMhEdE4Jyt-gX3axLLH8kIKtZkGwKMvn26zx6D5REnFb9ETPkuBob3TBHWxfRPKxABqyKdg-LF_Bhcu5vqpKfeQiXzbwBqjuD2Ef-Guepta8IOOMcgT50O5GkRU8Nwk7ejT1SRxP9pDJpWUvGCGfqKew9kFebsnW5lGRVKA9-Qh1S0RXBMUKHap9dkuRhOHD0MyI5Qwk3TzDH6NZY-K8I2Mpq5m2cwJjoD75ipt-2punXAKUAH6AIUQMu1Sz2yC1D1qaL5Rtw1ZO87jOFZmAB1CUZdGDqZEK_MD-THQ\"/>\n",
      "    </form>\n",
      "   </div>\n",
      "  </div>\n",
      "  <script>\n",
      "   (function(){\n",
      "        window._cf_chl_opt={\n",
      "            cvId: '2',\n",
      "            cZone: 'garden.org',\n",
      "            cType: 'managed',\n",
      "            cNounce: '44139',\n",
      "            cRay: '7b1205ebbbcb22e5',\n",
      "            cHash: '7114d8991948133',\n",
      "            cUPMDTk: \"\\/plants\\/view\\/590371\\/Tomato-Solanum-lycopersicum-100-Pudov\\/?__cf_chl_tk=qbj.yqSCw0ualMCaK5OcyoJDH_.XpHDVVBIV41r65xQ-1680364597-0-gaNycGzNCqU\",\n",
      "            cFPWv: 'b',\n",
      "            cTTimeMs: '1000',\n",
      "            cMTimeMs: '0',\n",
      "            cTplV: 5,\n",
      "            cTplB: 'cf',\n",
      "            cK: \"\",\n",
      "            cRq: {\n",
      "                ru: 'aHR0cHM6Ly9nYXJkZW4ub3JnL3BsYW50cy92aWV3LzU5MDM3MS9Ub21hdG8tU29sYW51bS1seWNvcGVyc2ljdW0tMTAwLVB1ZG92Lw==',\n",
      "                ra: 'cHl0aG9uLXJlcXVlc3RzLzIuMjguMg==',\n",
      "                rm: 'R0VU',\n",
      "                d: 'mufPyqFWka65k64dIAZ1Zp2esepJArNtV8gf8zTPInmVYr8oqymrm6c+iS0PuXtRpRCRkyQdSV6gsmqniX+4rVcAS24rrywNuJSiNCI+eEG74q+wJmYFhKoUtH77lri0SPI63Dn000sXXiaBJN2/K/JMQAdFRF/7GMzWQue1HSDZ8ZGQ4MiYrxsC4vroZHt2PqQ1DnQNf4QnwSnUz7wakiYyLWPBrpzdxCm+lOVRoL4mHSfnFa0ev8LyuYvs4Ubaasa6TWsTAi6XBa60A/kfaAYZZyXSEImLiY5LRk6t5DI/pky74QtQNPvjSPi/HP1STU3/aA/LWRH4CROA8UdTSGZxtmor8YNdZYHeHOGjPec2Tt6FRthGH5DeGbYfvnYMwYUBbDy3aTGWYz5v51Xg0lYMBvjE+rhMoXQMoE70a3GGrUHodWV3Vey3LN1iYYK1gMfGwggTP3h9l31a5it0GX9tIKoCviVch1dKlsLidEZLJHVYHN0jzfquzzBx1ctKjC6YntSHfrwzdPnTXXAsSyCCi5uRBcoCY2RPahcQvcPoJEK/5Zt162+AYYS7C9GQz5zKQujp6ZIViq/jP6EXd3rfToRhJO7KCt6I4pNFAQXq5r/MjhFMn/1mqejhFLFm',\n",
      "                t: 'MTY4MDM2NDU5Ny4wNzcwMDA=',\n",
      "                m: 'Sul5vY+UmjGiI9jEHw+CcGIsFy23tKQ/lSc1RiuI0/U=',\n",
      "                i1: 'aPHjRrTwIqM3pFVNKMA9Vg==',\n",
      "                i2: 'jwXUPTYS56TR4XzVMLQkjg==',\n",
      "                zh: 'FNdAuCS9lVWvVLplcCL/vbEwD5J2vfzrta3r4A//pRI=',\n",
      "                uh: 'neMFmDCz0LRc0/Wea+5x0IhJieHbzcQVSkMgFkgnrjc=',\n",
      "                hh: 'k4B4EH5Li8/R5qkr0r8p1ranheoUPn+9oJ1t3EJSl+8=',\n",
      "            }\n",
      "        };\n",
      "        var trkjs = document.createElement('img');\n",
      "        trkjs.setAttribute('src', '/cdn-cgi/images/trace/managed/js/transparent.gif?ray=7b1205ebbbcb22e5');\n",
      "        trkjs.setAttribute('alt', '');\n",
      "        trkjs.setAttribute('style', 'display: none');\n",
      "        document.body.appendChild(trkjs);\n",
      "        var cpo = document.createElement('script');\n",
      "        cpo.src = '/cdn-cgi/challenge-platform/h/b/orchestrate/managed/v1?ray=7b1205ebbbcb22e5';\n",
      "        window._cf_chl_opt.cOgUHash = location.hash === '' && location.href.indexOf('#') !== -1 ? '#' : location.hash;\n",
      "        window._cf_chl_opt.cOgUQuery = location.search === '' && location.href.slice(0, location.href.length - window._cf_chl_opt.cOgUHash.length).indexOf('?') !== -1 ? '?' : location.search;\n",
      "        if (window.history && window.history.replaceState) {\n",
      "            var ogU = location.pathname + window._cf_chl_opt.cOgUQuery + window._cf_chl_opt.cOgUHash;\n",
      "            history.replaceState(null, null, \"\\/plants\\/view\\/590371\\/Tomato-Solanum-lycopersicum-100-Pudov\\/?__cf_chl_rt_tk=qbj.yqSCw0ualMCaK5OcyoJDH_.XpHDVVBIV41r65xQ-1680364597-0-gaNycGzNCqU\" + window._cf_chl_opt.cOgUHash);\n",
      "            cpo.onload = function() {\n",
      "                history.replaceState(null, null, ogU);\n",
      "            };\n",
      "        }\n",
      "        document.getElementsByTagName('head')[0].appendChild(cpo);\n",
      "    }());\n",
      "  </script>\n",
      " </body>\n",
      "</html>\n",
      "\n"
     ]
    }
   ],
   "source": [
    "# soup.prettify()\n",
    "print(soup.prettify())"
   ]
  },
  {
   "cell_type": "code",
   "execution_count": 1,
   "metadata": {},
   "outputs": [
    {
     "ename": "FileNotFoundError",
     "evalue": "[Errno 2] No such file or directory: 'https://garden.org/plants/view/86894/Tomato-Solanum-lycopersicum-Cherokee-Purple/'",
     "output_type": "error",
     "traceback": [
      "\u001b[0;31m---------------------------------------------------------------------------\u001b[0m",
      "\u001b[0;31mFileNotFoundError\u001b[0m                         Traceback (most recent call last)",
      "Cell \u001b[0;32mIn[1], line 3\u001b[0m\n\u001b[1;32m      1\u001b[0m \u001b[39mfrom\u001b[39;00m \u001b[39mbs4\u001b[39;00m \u001b[39mimport\u001b[39;00m BeautifulSoup\n\u001b[0;32m----> 3\u001b[0m f \u001b[39m=\u001b[39m \u001b[39mopen\u001b[39;49m(\u001b[39m\"\u001b[39;49m\u001b[39mhttps://garden.org/plants/view/86894/Tomato-Solanum-lycopersicum-Cherokee-Purple/\u001b[39;49m\u001b[39m\"\u001b[39;49m)\n\u001b[1;32m      4\u001b[0m html_text \u001b[39m=\u001b[39m f\u001b[39m.\u001b[39mread()\n\u001b[1;32m      5\u001b[0m soup \u001b[39m=\u001b[39m BeautifulSoup(html_text, \u001b[39m'\u001b[39m\u001b[39mhtml.parser\u001b[39m\u001b[39m'\u001b[39m) \u001b[39m# use the htmal.parser method\u001b[39;00m\n",
      "File \u001b[0;32m~/umich/course/SI507/.venv/lib/python3.11/site-packages/IPython/core/interactiveshell.py:282\u001b[0m, in \u001b[0;36m_modified_open\u001b[0;34m(file, *args, **kwargs)\u001b[0m\n\u001b[1;32m    275\u001b[0m \u001b[39mif\u001b[39;00m file \u001b[39min\u001b[39;00m {\u001b[39m0\u001b[39m, \u001b[39m1\u001b[39m, \u001b[39m2\u001b[39m}:\n\u001b[1;32m    276\u001b[0m     \u001b[39mraise\u001b[39;00m \u001b[39mValueError\u001b[39;00m(\n\u001b[1;32m    277\u001b[0m         \u001b[39mf\u001b[39m\u001b[39m\"\u001b[39m\u001b[39mIPython won\u001b[39m\u001b[39m'\u001b[39m\u001b[39mt let you open fd=\u001b[39m\u001b[39m{\u001b[39;00mfile\u001b[39m}\u001b[39;00m\u001b[39m by default \u001b[39m\u001b[39m\"\u001b[39m\n\u001b[1;32m    278\u001b[0m         \u001b[39m\"\u001b[39m\u001b[39mas it is likely to crash IPython. If you know what you are doing, \u001b[39m\u001b[39m\"\u001b[39m\n\u001b[1;32m    279\u001b[0m         \u001b[39m\"\u001b[39m\u001b[39myou can use builtins\u001b[39m\u001b[39m'\u001b[39m\u001b[39m open.\u001b[39m\u001b[39m\"\u001b[39m\n\u001b[1;32m    280\u001b[0m     )\n\u001b[0;32m--> 282\u001b[0m \u001b[39mreturn\u001b[39;00m io_open(file, \u001b[39m*\u001b[39;49margs, \u001b[39m*\u001b[39;49m\u001b[39m*\u001b[39;49mkwargs)\n",
      "\u001b[0;31mFileNotFoundError\u001b[0m: [Errno 2] No such file or directory: 'https://garden.org/plants/view/86894/Tomato-Solanum-lycopersicum-Cherokee-Purple/'"
     ]
    }
   ],
   "source": [
    "\n",
    "f = open(\"https://garden.org/plants/view/86894/Tomato-Solanum-lycopersicum-Cherokee-Purple/\")\n",
    "html_text = f.read()\n",
    "soup = BeautifulSoup(html_text, 'html.parser') # use the htmal.parser method\n",
    "# put the object returned from parser under the name 'soup'\n"
   ]
  },
  {
   "cell_type": "code",
   "execution_count": 3,
   "metadata": {},
   "outputs": [
    {
     "name": "stdout",
     "output_type": "stream",
     "text": [
      "<class 'bs4.BeautifulSoup'>\n"
     ]
    }
   ],
   "source": [
    "print(type(soup)) # a class with methods and attributes "
   ]
  },
  {
   "cell_type": "code",
   "execution_count": 4,
   "metadata": {},
   "outputs": [
    {
     "name": "stdout",
     "output_type": "stream",
     "text": [
      "<!DOCTYPE html>\n",
      "<html lang=\"en\">\n",
      " <head>\n",
      "  <meta charset=\"utf-8\"/>\n",
      "  <meta content=\"width=device-width, initial-scale=1.0\" name=\"viewport\"/>\n",
      "  <!-- connects to the stylesheets -->\n",
      "  <link href=\"css/reset.css\" rel=\"stylesheet\"/>\n",
      "  <link href=\"css/style.css\" rel=\"stylesheet\"/>\n",
      "  <!-- connect to a Google font -->\n",
      "  <link href=\"https://fonts.googleapis.com/css?family=Inconsolata\" rel=\"stylesheet\"/>\n",
      "  <link href=\"https://fonts.googleapis.com/css?family=Libre+Baskerville\" rel=\"stylesheet\"/>\n",
      "  <!-- connect to a Font Aweseom font -->\n",
      "  <script crossorigin=\"anonymous\" src=\"https://kit.fontawesome.com/df078bb8d0.js\">\n",
      "  </script>\n",
      "  <!-- connect to a favicon -->\n",
      "  <link href=\"./images/favicon2.png\" rel=\"icon\"/>\n",
      "  <title>\n",
      "   Women's Web\n",
      "  </title>\n",
      " </head>\n",
      " <body>\n",
      "  <a class=\"skip\" href=\"#main\">\n",
      "   Skip to Main Content\n",
      "  </a>\n",
      "  <header>\n",
      "   <nav>\n",
      "    <ul>\n",
      "     <li>\n",
      "      <i class=\"fas fa-star\">\n",
      "      </i>\n",
      "      <a class=\"active\" href=\"index.html\">\n",
      "       About\n",
      "      </a>\n",
      "     </li>\n",
      "     <li>\n",
      "      <a href=\"literature.html\">\n",
      "       Literature\n",
      "      </a>\n",
      "     </li>\n",
      "     <li>\n",
      "      <a href=\"history.html\">\n",
      "       History and Politics\n",
      "      </a>\n",
      "     </li>\n",
      "     <li>\n",
      "      <a href=\"femdict.html\">\n",
      "       Feminist Dictionary\n",
      "      </a>\n",
      "     </li>\n",
      "    </ul>\n",
      "   </nav>\n",
      "   <h1>\n",
      "    Woman's Web\n",
      "   </h1>\n",
      "  </header>\n",
      "  <main class=\"intro\" id=\"main\">\n",
      "   <img alt=\"Image of the Ann Arbor Women's March\" src=\"images/women_march_pano.jpg\" width=\"200\"/>\n",
      "   <div>\n",
      "    <p>\n",
      "     This website started as an idea when Kelsey Toporski was a freshman in college taking my first\n",
      "     <a href=\"https://lsa.umich.edu/women\">\n",
      "      Women's Studies\n",
      "     </a>\n",
      "     class. As a junior, she had the skill set to make it happen. Growing up in a small, rural, conservative town, this class was really her first introduction to feminism and feminist thought, and she wanted to share her new found knowledge with others. This website is where a lot of feminist things could be compiled in one place, purely because people might not otherwise know about it. Her hometown may not have been forward thinking, but it did have internet connection.\n",
      "    </p>\n",
      "    <p>\n",
      "     This website currently contains 3 pages other than this one - click below to see a short description of each!\n",
      "    </p>\n",
      "   </div>\n",
      "   <div class=\"index\">\n",
      "    <h2>\n",
      "     Literature\n",
      "    </h2>\n",
      "    <p>\n",
      "     This page features books written by women and for women, books and essays about feminism, poems, plays, and bios of female writers.\n",
      "    </p>\n",
      "   </div>\n",
      "   <div class=\"index\">\n",
      "    <h2>\n",
      "     History / Politics\n",
      "    </h2>\n",
      "    <p>\n",
      "     This page features bios of important women in history and women currently in Congress or otherwise politically involved.\n",
      "    </p>\n",
      "   </div>\n",
      "   <div class=\"index\">\n",
      "    <h2>\n",
      "     Feminist Dictionary\n",
      "    </h2>\n",
      "    <p>\n",
      "     This page features a collection of important feminist terminology that might make reading easier. These will include formal definitions and my own understandings of the terms.\n",
      "    </p>\n",
      "   </div>\n",
      "   <div>\n",
      "    <p>\n",
      "     <span>\n",
      "      Kelsey's DISCLAIMER:\n",
      "     </span>\n",
      "     I did not know everything!! I'm only human - I'm still growing and learning and I have a limited knowledge of things, but I will do my best and work to make this page as inclusive and unbiased as possible.\n",
      "    </p>\n",
      "   </div>\n",
      "  </main>\n",
      "  <footer>\n",
      "   <p class=\"thanks\">\n",
      "    Thanks for visiting!\n",
      "    <i class=\"far fa-grin\">\n",
      "    </i>\n",
      "   </p>\n",
      "   <p>\n",
      "    Orginal content created by Kelsey Toporski 2019\n",
      "    <i class=\"fas fa-star\">\n",
      "    </i>\n",
      "   </p>\n",
      "   <a class=\"tops\" href=\"#top\">\n",
      "    Back to Top\n",
      "   </a>\n",
      "  </footer>\n",
      " </body>\n",
      "</html>\n",
      "\n"
     ]
    }
   ],
   "source": [
    "print(soup.prettify()) # the soup see the html format"
   ]
  },
  {
   "cell_type": "code",
   "execution_count": 5,
   "metadata": {},
   "outputs": [],
   "source": [
    "# searching by tag\n",
    "all_list_items = soup.find_all('li') # find_all is a method of the soup class\n",
    "all_divs = soup.find_all('div')\n",
    "\n",
    "# searching by tag AND class\n",
    "all_french_list_items = soup.find_all('a', class_='intro') # why class_? so you dno't confused it (html) with python class\n",
    "\n",
    "# searching by id\n",
    "all_hello_elements = soup.find_all(id='main')"
   ]
  },
  {
   "cell_type": "code",
   "execution_count": 6,
   "metadata": {},
   "outputs": [
    {
     "data": {
      "text/plain": [
       "[<li><i class=\"fas fa-star\"></i><a class=\"active\" href=\"index.html\"> About</a></li>,\n",
       " <li><a href=\"literature.html\">Literature</a></li>,\n",
       " <li><a href=\"history.html\">History and Politics</a></li>,\n",
       " <li><a href=\"femdict.html\">Feminist Dictionary</a></li>]"
      ]
     },
     "execution_count": 6,
     "metadata": {},
     "output_type": "execute_result"
    }
   ],
   "source": [
    "all_list_items"
   ]
  },
  {
   "cell_type": "code",
   "execution_count": 7,
   "metadata": {},
   "outputs": [
    {
     "data": {
      "text/plain": [
       "<li><a href=\"literature.html\">Literature</a></li>"
      ]
     },
     "execution_count": 7,
     "metadata": {},
     "output_type": "execute_result"
    }
   ],
   "source": [
    "all_list_items[1] # can access individual element\n",
    "# individual result is made out of tag "
   ]
  },
  {
   "cell_type": "code",
   "execution_count": 10,
   "metadata": {},
   "outputs": [
    {
     "name": "stdout",
     "output_type": "stream",
     "text": [
      "None\n",
      "Literature\n",
      "History and Politics\n",
      "Feminist Dictionary\n"
     ]
    }
   ],
   "source": [
    "# how to get the str? use the bs4.string method (similar to but dif from python str)\n",
    "for li in all_list_items:\n",
    "    print(li.string)  # li.string.upper()"
   ]
  },
  {
   "cell_type": "code",
   "execution_count": null,
   "metadata": {},
   "outputs": [],
   "source": [
    "# print by section (note: levels are different)\n",
    "\n",
    "print(\"EXAMINING THE CHILDREN OF THE 'HELLO' LIST\")\n",
    "for child in all_hello_elements[0].contents:\n",
    "\tprint(child)\n",
    "\tprint(type(child))\n",
    "\tprint('------')\n",
    "\n",
    "# get rid of extra space\n",
    "print(\"USING strip() TO GET RID OF WHITESPACE\")\n",
    "print(all_hello_elements[0].contents[0].strip()) # note: can't do strip on a tag. do strip as last step\n",
    "print('------')\n"
   ]
  }
 ],
 "metadata": {
  "kernelspec": {
   "display_name": ".venv",
   "language": "python",
   "name": "python3"
  },
  "language_info": {
   "codemirror_mode": {
    "name": "ipython",
    "version": 3
   },
   "file_extension": ".py",
   "mimetype": "text/x-python",
   "name": "python",
   "nbconvert_exporter": "python",
   "pygments_lexer": "ipython3",
   "version": "3.11.1"
  },
  "orig_nbformat": 4
 },
 "nbformat": 4,
 "nbformat_minor": 2
}
