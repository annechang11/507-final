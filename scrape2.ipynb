{
 "cells": [
  {
   "cell_type": "code",
   "execution_count": 1,
   "metadata": {},
   "outputs": [],
   "source": [
    "from selenium import webdriver\n",
    "from selenium.webdriver.chrome.service import Service as ChromeService\n",
    "from webdriver_manager.chrome import ChromeDriverManager  \n",
    "# info about how to install webdriver_manager https://pypi.org/project/webdriver-manager/\n"
   ]
  },
  {
   "cell_type": "code",
   "execution_count": 34,
   "metadata": {},
   "outputs": [],
   "source": [
    "service = ChromeService(executable_path=ChromeDriverManager().install())\n",
    "driver = webdriver.Chrome(service=service)"
   ]
  },
  {
   "cell_type": "code",
   "execution_count": 29,
   "metadata": {},
   "outputs": [
    {
     "ename": "NoSuchWindowException",
     "evalue": "Message: no such window: target window already closed\nfrom unknown error: web view not found\n  (Session info: chrome=111.0.5563.146)\nStacktrace:\n0   chromedriver                        0x0000000108dd8428 chromedriver + 4899880\n1   chromedriver                        0x0000000108d55a23 chromedriver + 4364835\n2   chromedriver                        0x000000010899fbf6 chromedriver + 474102\n3   chromedriver                        0x0000000108975cdc chromedriver + 302300\n4   chromedriver                        0x0000000108a0e85f chromedriver + 927839\n5   chromedriver                        0x0000000108a24226 chromedriver + 1016358\n6   chromedriver                        0x0000000108a09333 chromedriver + 906035\n7   chromedriver                        0x00000001089d355f chromedriver + 685407\n8   chromedriver                        0x00000001089d4a7e chromedriver + 690814\n9   chromedriver                        0x0000000108da579e chromedriver + 4691870\n10  chromedriver                        0x0000000108daa961 chromedriver + 4712801\n11  chromedriver                        0x0000000108db12ff chromedriver + 4739839\n12  chromedriver                        0x0000000108dab85a chromedriver + 4716634\n13  chromedriver                        0x0000000108d7dfce chromedriver + 4530126\n14  chromedriver                        0x0000000108dcb5c8 chromedriver + 4847048\n15  chromedriver                        0x0000000108dcb747 chromedriver + 4847431\n16  chromedriver                        0x0000000108de087f chromedriver + 4933759\n17  libsystem_pthread.dylib             0x00007ff8185fc4e1 _pthread_start + 125\n18  libsystem_pthread.dylib             0x00007ff8185f7f6b thread_start + 15\n",
     "output_type": "error",
     "traceback": [
      "\u001b[0;31m---------------------------------------------------------------------------\u001b[0m",
      "\u001b[0;31mNoSuchWindowException\u001b[0m                     Traceback (most recent call last)",
      "Cell \u001b[0;32mIn[29], line 1\u001b[0m\n\u001b[0;32m----> 1\u001b[0m driver\u001b[39m.\u001b[39;49mget(\u001b[39m'\u001b[39;49m\u001b[39mhttps://garden.org/plants/browse/plants/children/77653/popular/\u001b[39;49m\u001b[39m'\u001b[39;49m) \n",
      "File \u001b[0;32m~/umich/course/SI507/.venv/lib/python3.11/site-packages/selenium/webdriver/remote/webdriver.py:449\u001b[0m, in \u001b[0;36mWebDriver.get\u001b[0;34m(self, url)\u001b[0m\n\u001b[1;32m    447\u001b[0m \u001b[39mdef\u001b[39;00m \u001b[39mget\u001b[39m(\u001b[39mself\u001b[39m, url: \u001b[39mstr\u001b[39m) \u001b[39m-\u001b[39m\u001b[39m>\u001b[39m \u001b[39mNone\u001b[39;00m:\n\u001b[1;32m    448\u001b[0m \u001b[39m    \u001b[39m\u001b[39m\"\"\"Loads a web page in the current browser session.\"\"\"\u001b[39;00m\n\u001b[0;32m--> 449\u001b[0m     \u001b[39mself\u001b[39;49m\u001b[39m.\u001b[39;49mexecute(Command\u001b[39m.\u001b[39;49mGET, {\u001b[39m\"\u001b[39;49m\u001b[39murl\u001b[39;49m\u001b[39m\"\u001b[39;49m: url})\n",
      "File \u001b[0;32m~/umich/course/SI507/.venv/lib/python3.11/site-packages/selenium/webdriver/remote/webdriver.py:440\u001b[0m, in \u001b[0;36mWebDriver.execute\u001b[0;34m(self, driver_command, params)\u001b[0m\n\u001b[1;32m    438\u001b[0m response \u001b[39m=\u001b[39m \u001b[39mself\u001b[39m\u001b[39m.\u001b[39mcommand_executor\u001b[39m.\u001b[39mexecute(driver_command, params)\n\u001b[1;32m    439\u001b[0m \u001b[39mif\u001b[39;00m response:\n\u001b[0;32m--> 440\u001b[0m     \u001b[39mself\u001b[39;49m\u001b[39m.\u001b[39;49merror_handler\u001b[39m.\u001b[39;49mcheck_response(response)\n\u001b[1;32m    441\u001b[0m     response[\u001b[39m\"\u001b[39m\u001b[39mvalue\u001b[39m\u001b[39m\"\u001b[39m] \u001b[39m=\u001b[39m \u001b[39mself\u001b[39m\u001b[39m.\u001b[39m_unwrap_value(response\u001b[39m.\u001b[39mget(\u001b[39m\"\u001b[39m\u001b[39mvalue\u001b[39m\u001b[39m\"\u001b[39m, \u001b[39mNone\u001b[39;00m))\n\u001b[1;32m    442\u001b[0m     \u001b[39mreturn\u001b[39;00m response\n",
      "File \u001b[0;32m~/umich/course/SI507/.venv/lib/python3.11/site-packages/selenium/webdriver/remote/errorhandler.py:245\u001b[0m, in \u001b[0;36mErrorHandler.check_response\u001b[0;34m(self, response)\u001b[0m\n\u001b[1;32m    243\u001b[0m         alert_text \u001b[39m=\u001b[39m value[\u001b[39m\"\u001b[39m\u001b[39malert\u001b[39m\u001b[39m\"\u001b[39m]\u001b[39m.\u001b[39mget(\u001b[39m\"\u001b[39m\u001b[39mtext\u001b[39m\u001b[39m\"\u001b[39m)\n\u001b[1;32m    244\u001b[0m     \u001b[39mraise\u001b[39;00m exception_class(message, screen, stacktrace, alert_text)  \u001b[39m# type: ignore[call-arg]  # mypy is not smart enough here\u001b[39;00m\n\u001b[0;32m--> 245\u001b[0m \u001b[39mraise\u001b[39;00m exception_class(message, screen, stacktrace)\n",
      "\u001b[0;31mNoSuchWindowException\u001b[0m: Message: no such window: target window already closed\nfrom unknown error: web view not found\n  (Session info: chrome=111.0.5563.146)\nStacktrace:\n0   chromedriver                        0x0000000108dd8428 chromedriver + 4899880\n1   chromedriver                        0x0000000108d55a23 chromedriver + 4364835\n2   chromedriver                        0x000000010899fbf6 chromedriver + 474102\n3   chromedriver                        0x0000000108975cdc chromedriver + 302300\n4   chromedriver                        0x0000000108a0e85f chromedriver + 927839\n5   chromedriver                        0x0000000108a24226 chromedriver + 1016358\n6   chromedriver                        0x0000000108a09333 chromedriver + 906035\n7   chromedriver                        0x00000001089d355f chromedriver + 685407\n8   chromedriver                        0x00000001089d4a7e chromedriver + 690814\n9   chromedriver                        0x0000000108da579e chromedriver + 4691870\n10  chromedriver                        0x0000000108daa961 chromedriver + 4712801\n11  chromedriver                        0x0000000108db12ff chromedriver + 4739839\n12  chromedriver                        0x0000000108dab85a chromedriver + 4716634\n13  chromedriver                        0x0000000108d7dfce chromedriver + 4530126\n14  chromedriver                        0x0000000108dcb5c8 chromedriver + 4847048\n15  chromedriver                        0x0000000108dcb747 chromedriver + 4847431\n16  chromedriver                        0x0000000108de087f chromedriver + 4933759\n17  libsystem_pthread.dylib             0x00007ff8185fc4e1 _pthread_start + 125\n18  libsystem_pthread.dylib             0x00007ff8185f7f6b thread_start + 15\n"
     ]
    }
   ],
   "source": [
    "driver.get('https://garden.org/plants/browse/plants/children/77653/popular/') "
   ]
  },
  {
   "cell_type": "code",
   "execution_count": 6,
   "metadata": {},
   "outputs": [],
   "source": [
    "from selenium.webdriver.common.by import By\n",
    "## https://selenium-python.readthedocs.io/locating-elements.html"
   ]
  },
  {
   "cell_type": "code",
   "execution_count": 7,
   "metadata": {},
   "outputs": [],
   "source": [
    "big_table = driver.find_element(By.TAG_NAME, 'tbody')\n",
    "\n",
    "a_tags = big_table.find_elements(By.TAG_NAME, 'a')"
   ]
  },
  {
   "cell_type": "code",
   "execution_count": 8,
   "metadata": {},
   "outputs": [
    {
     "name": "stdout",
     "output_type": "stream",
     "text": [
      "https://garden.org/plants/view/77653/Tomatoes-Solanum-pimpinellifolium/\n",
      "https://garden.org/plants/view/77653/Tomatoes-Solanum-pimpinellifolium/\n",
      "https://garden.org/plants/view/86894/Tomato-Solanum-lycopersicum-Cherokee-Purple/\n",
      "https://garden.org/plants/view/86894/Tomato-Solanum-lycopersicum-Cherokee-Purple/\n",
      "https://garden.org/plants/view/86906/Tomato-Solanum-lycopersicum-Kelloggs-Breakfast/\n",
      "https://garden.org/plants/view/86906/Tomato-Solanum-lycopersicum-Kelloggs-Breakfast/\n",
      "https://garden.org/plants/view/120699/Tomato-Solanum-lycopersicum-Black-Krim/\n",
      "https://garden.org/plants/view/120699/Tomato-Solanum-lycopersicum-Black-Krim/\n",
      "https://garden.org/plants/view/111244/Tomato-Solanum-lycopersicum-Sungold/\n",
      "https://garden.org/plants/view/111244/Tomato-Solanum-lycopersicum-Sungold/\n",
      "https://garden.org/plants/view/136618/Tomato-Solanum-lycopersicum-Black-Cherry/\n",
      "https://garden.org/plants/view/136618/Tomato-Solanum-lycopersicum-Black-Cherry/\n",
      "https://garden.org/plants/view/91360/Tomato-Solanum-lycopersicum-Celebrity/\n",
      "https://garden.org/plants/view/91360/Tomato-Solanum-lycopersicum-Celebrity/\n",
      "https://garden.org/plants/view/91361/Tomato-Solanum-lycopersicum-Brandywine-Pink/\n",
      "https://garden.org/plants/view/91361/Tomato-Solanum-lycopersicum-Brandywine-Pink/\n",
      "https://garden.org/plants/view/91634/Tomato-Solanum-lycopersicum-Roma/\n",
      "https://garden.org/plants/view/91634/Tomato-Solanum-lycopersicum-Roma/\n",
      "https://garden.org/plants/view/112284/Tomato-Solanum-lycopersicum-Early-Girl/\n",
      "https://garden.org/plants/view/112284/Tomato-Solanum-lycopersicum-Early-Girl/\n",
      "https://garden.org/plants/view/113029/Tomato-Solanum-lycopersicum-Mortgage-Lifter/\n",
      "https://garden.org/plants/view/113029/Tomato-Solanum-lycopersicum-Mortgage-Lifter/\n",
      "https://garden.org/plants/view/151061/Cherry-Tomato-Solanum-lycopersicum-Mexico-Midget/\n",
      "https://garden.org/plants/view/151061/Cherry-Tomato-Solanum-lycopersicum-Mexico-Midget/\n",
      "https://garden.org/plants/view/160411/Tomato-Solanum-lycopersicum-San-Marzano/\n",
      "https://garden.org/plants/view/160411/Tomato-Solanum-lycopersicum-San-Marzano/\n",
      "https://garden.org/plants/view/109188/Tomato-Solanum-lycopersicum-Yellow-Pear/\n",
      "https://garden.org/plants/view/109188/Tomato-Solanum-lycopersicum-Yellow-Pear/\n",
      "https://garden.org/plants/view/112285/Tomato-Solanum-lycopersicum-Better-Boy/\n",
      "https://garden.org/plants/view/112285/Tomato-Solanum-lycopersicum-Better-Boy/\n",
      "https://garden.org/plants/view/123133/Tomato-Solanum-lycopersicum-Stupice/\n",
      "https://garden.org/plants/view/123133/Tomato-Solanum-lycopersicum-Stupice/\n",
      "https://garden.org/plants/view/164045/Tomato-Solanum-lycopersicum-Beefsteak/\n",
      "https://garden.org/plants/view/164045/Tomato-Solanum-lycopersicum-Beefsteak/\n",
      "https://garden.org/plants/view/92288/Tomato-Solanum-lycopersicum-Big-Beef/\n",
      "https://garden.org/plants/view/92288/Tomato-Solanum-lycopersicum-Big-Beef/\n",
      "https://garden.org/plants/view/111557/Tomato-Solanum-lycopersicum-Amish-Paste/\n",
      "https://garden.org/plants/view/111557/Tomato-Solanum-lycopersicum-Amish-Paste/\n",
      "https://garden.org/plants/view/86887/Tomato-Solanum-lycopersicum-Aunt-Rubys-German-Green/\n",
      "https://garden.org/plants/view/86887/Tomato-Solanum-lycopersicum-Aunt-Rubys-German-Green/\n"
     ]
    }
   ],
   "source": [
    "for a_tag in a_tags:\n",
    "    print(a_tag.get_attribute('href'))"
   ]
  },
  {
   "cell_type": "code",
   "execution_count": 9,
   "metadata": {},
   "outputs": [],
   "source": [
    "page_urls = []\n",
    "for a_tag in a_tags:\n",
    "    page_urls.append(a_tag.get_attribute('href'))\n"
   ]
  },
  {
   "cell_type": "code",
   "execution_count": 11,
   "metadata": {},
   "outputs": [
    {
     "data": {
      "text/plain": [
       "40"
      ]
     },
     "execution_count": 11,
     "metadata": {},
     "output_type": "execute_result"
    }
   ],
   "source": [
    "len(page_urls)"
   ]
  },
  {
   "cell_type": "code",
   "execution_count": 22,
   "metadata": {},
   "outputs": [],
   "source": [
    "page_urls_unique = page_urls[::2] # no redudant # every other item"
   ]
  },
  {
   "cell_type": "code",
   "execution_count": 24,
   "metadata": {},
   "outputs": [
    {
     "data": {
      "text/plain": [
       "'https://garden.org/plants/view/77653/Tomatoes-Solanum-pimpinellifolium/'"
      ]
     },
     "execution_count": 24,
     "metadata": {},
     "output_type": "execute_result"
    }
   ],
   "source": [
    "page_urls_unique[0]"
   ]
  },
  {
   "cell_type": "code",
   "execution_count": 35,
   "metadata": {},
   "outputs": [],
   "source": [
    "driver.get(page_urls_unique[0])\n"
   ]
  },
  {
   "cell_type": "code",
   "execution_count": 38,
   "metadata": {},
   "outputs": [],
   "source": [
    "tomato_table = driver.find_element(By.TAG_NAME, 'tbody')\n",
    "tr_tags = tomato_table.find_elements(By.TAG_NAME, 'tr')\n",
    "tomato_data = []\n",
    "for tr_tag in tr_tags:\n",
    "    tomato_data.append(tr_tag.text)"
   ]
  },
  {
   "cell_type": "code",
   "execution_count": 39,
   "metadata": {},
   "outputs": [
    {
     "data": {
      "text/plain": [
       "['Plant Habit: Vine',\n",
       " 'Life cycle: Perennial',\n",
       " 'Sun Requirements: Full Sun',\n",
       " 'Water Preferences: Mesic',\n",
       " 'Minimum cold hardiness: Zone 11 +4.4 °C (40 °F) to +7.2 °C (50 °F)',\n",
       " 'Plant Height: Varies greatly by species and cultivated variety.',\n",
       " 'Plant Spread: Varies greatly by species and cultivated variety.',\n",
       " 'Leaves: Other: Varies greatly by species and cultivated variety.',\n",
       " 'Fruit: Showy\\nEdible to birds',\n",
       " 'Fruiting Time: Other: Varies greatly by species and cultivated variety.',\n",
       " 'Flower Color: Yellow',\n",
       " 'Bloom Size: Under 1\"',\n",
       " 'Flower Time: Other: Varies greatly by species and cultivated variety.',\n",
       " 'Uses: Vegetable\\nSuitable as Annual',\n",
       " 'Edible Parts: Fruit',\n",
       " 'Eating Methods: Raw\\nCooked',\n",
       " 'Resistances: Rabbit Resistant',\n",
       " 'Toxicity: Leaves are poisonous\\nRoots are poisonous',\n",
       " 'Propagation: Seeds: Self fertile\\nOther info: Direct sowing into the garden not recommended. Sow seeds into sterile seed starting mix, 1/8\"-1/4\" deep, indoors, 6-8 weeks prior to last expected frost date. Optimal germination occurs in 7-14 days with constant moisture and soil temperatures of 75-90F.',\n",
       " 'Propagation: Other methods: Cuttings: Stem',\n",
       " 'Pollinators: Self\\nVarious insects',\n",
       " 'Containers: Preferred depth: Some tomato varieties, primarily dwarf and determinate varieties, are suitable for container gardening. Large, vining, indeterminate types can be grown in 5 gallon or larger containers but may require extra attention.']"
      ]
     },
     "execution_count": 39,
     "metadata": {},
     "output_type": "execute_result"
    }
   ],
   "source": [
    "tomato_data"
   ]
  },
  {
   "cell_type": "code",
   "execution_count": 56,
   "metadata": {},
   "outputs": [],
   "source": [
    "# https://www.grepper.com/answers/55261/how+to+split+a+string+in+python+with+multiple+delimiters\n",
    "# how to split on 2 delimiters"
   ]
  },
  {
   "cell_type": "code",
   "execution_count": 62,
   "metadata": {},
   "outputs": [
    {
     "data": {
      "text/plain": [
       "[['Plant Habit', 'Vine'],\n",
       " ['Life cycle', 'Perennial'],\n",
       " ['Sun Requirements', 'Full Sun'],\n",
       " ['Water Preferences', 'Mesic'],\n",
       " ['Minimum cold hardiness', 'Zone 11 +44 °C (40 °F) to +72 °C (50 °F)'],\n",
       " ['Plant Height', 'Varies greatly by species and cultivated variety'],\n",
       " ['Plant Spread', 'Varies greatly by species and cultivated variety'],\n",
       " ['Leaves', 'Other', 'Varies greatly by species and cultivated variety'],\n",
       " ['Fruit', 'Showy', 'Edible to birds'],\n",
       " ['Fruiting Time',\n",
       "  'Other',\n",
       "  'Varies greatly by species and cultivated variety'],\n",
       " ['Flower Color', 'Yellow'],\n",
       " ['Bloom Size', 'Under 1\"'],\n",
       " ['Flower Time', 'Other', 'Varies greatly by species and cultivated variety'],\n",
       " ['Uses', 'Vegetable', 'Suitable as Annual'],\n",
       " ['Edible Parts', 'Fruit'],\n",
       " ['Eating Methods', 'Raw', 'Cooked'],\n",
       " ['Resistances', 'Rabbit Resistant'],\n",
       " ['Toxicity', 'Leaves are poisonous', 'Roots are poisonous'],\n",
       " ['Propagation',\n",
       "  'Seeds',\n",
       "  'Self fertile',\n",
       "  'Other info',\n",
       "  'Direct sowing into the garden not recommended Sow seeds into sterile seed starting mix, 1/8\"-1/4\" deep, indoors, 6-8 weeks prior to last expected frost date Optimal germination occurs in 7-14 days with constant moisture and soil temperatures of 75-90F'],\n",
       " ['Propagation', 'Other methods', 'Cuttings', 'Stem'],\n",
       " ['Pollinators', 'Self', 'Various insects'],\n",
       " ['Containers',\n",
       "  'Preferred depth',\n",
       "  'Some tomato varieties, primarily dwarf and determinate varieties, are suitable for container gardening Large, vining, indeterminate types can be grown in 5 gallon or larger containers but may require extra attention']]"
      ]
     },
     "execution_count": 62,
     "metadata": {},
     "output_type": "execute_result"
    }
   ],
   "source": [
    "# no period at the end\n",
    "# split by : and \\n\n",
    "import re\n",
    "items = []\n",
    "for attr in tomato_data:\n",
    "    attr = attr.replace('.','')\n",
    "    items.append(re.split(': |\\n',attr))\n",
    "\n",
    "items"
   ]
  },
  {
   "cell_type": "code",
   "execution_count": 60,
   "metadata": {},
   "outputs": [
    {
     "data": {
      "text/plain": [
       "{'Plant Habit': ['Vine'],\n",
       " 'Life cycle': ['Perennial'],\n",
       " 'Sun Requirements': ['Full Sun'],\n",
       " 'Water Preferences': ['Mesic'],\n",
       " 'Minimum cold hardiness': ['Zone 11 +4.4 °C (40 °F) to +7.2 °C (50 °F)'],\n",
       " 'Plant Height': ['Varies greatly by species and cultivated variety.'],\n",
       " 'Plant Spread': ['Varies greatly by species and cultivated variety.'],\n",
       " 'Leaves': ['Other', 'Varies greatly by species and cultivated variety.'],\n",
       " 'Fruit': ['Showy', 'Edible to birds'],\n",
       " 'Fruiting Time': ['Other',\n",
       "  'Varies greatly by species and cultivated variety.'],\n",
       " 'Flower Color': ['Yellow'],\n",
       " 'Bloom Size': ['Under 1\"'],\n",
       " 'Flower Time': ['Other', 'Varies greatly by species and cultivated variety.'],\n",
       " 'Uses': ['Vegetable', 'Suitable as Annual'],\n",
       " 'Edible Parts': ['Fruit'],\n",
       " 'Eating Methods': ['Raw', 'Cooked'],\n",
       " 'Resistances': ['Rabbit Resistant'],\n",
       " 'Toxicity': ['Leaves are poisonous', 'Roots are poisonous'],\n",
       " 'Propagation': ['Other methods', 'Cuttings', 'Stem'],\n",
       " 'Pollinators': ['Self', 'Various insects'],\n",
       " 'Containers': ['Preferred depth',\n",
       "  'Some tomato varieties, primarily dwarf and determinate varieties, are suitable for container gardening. Large, vining, indeterminate types can be grown in 5 gallon or larger containers but may require extra attention.']}"
      ]
     },
     "execution_count": 60,
     "metadata": {},
     "output_type": "execute_result"
    }
   ],
   "source": [
    "tomato_dict = {}\n",
    "for item in items:\n",
    "    tomato_dict[item[0]] = item[1:]\n",
    "\n",
    "tomato_dict"
   ]
  },
  {
   "cell_type": "code",
   "execution_count": 46,
   "metadata": {},
   "outputs": [
    {
     "data": {
      "text/plain": [
       "['Vine',\n",
       " 'Perennial',\n",
       " 'Full Sun',\n",
       " 'Mesic',\n",
       " 'Zone 11 +4.4 °C (40 °F) to +7.2 °C (50 °F)',\n",
       " 'Varies greatly by species and cultivated variety.',\n",
       " 'Varies greatly by species and cultivated variety.',\n",
       " 'Other',\n",
       " 'Showy\\nEdible to birds',\n",
       " 'Other',\n",
       " 'Yellow',\n",
       " 'Under 1\"',\n",
       " 'Other',\n",
       " 'Vegetable\\nSuitable as Annual',\n",
       " 'Fruit',\n",
       " 'Raw\\nCooked',\n",
       " 'Rabbit Resistant',\n",
       " 'Leaves are poisonous\\nRoots are poisonous',\n",
       " 'Seeds',\n",
       " 'Other methods',\n",
       " 'Self\\nVarious insects',\n",
       " 'Preferred depth']"
      ]
     },
     "execution_count": 46,
     "metadata": {},
     "output_type": "execute_result"
    }
   ],
   "source": [
    "vals"
   ]
  },
  {
   "cell_type": "code",
   "execution_count": 41,
   "metadata": {},
   "outputs": [
    {
     "data": {
      "text/plain": [
       "['Plant Habit: Vine',\n",
       " 'Life cycle: Perennial',\n",
       " 'Sun Requirements: Full Sun',\n",
       " 'Water Preferences: Mesic',\n",
       " 'Minimum cold hardiness: Zone 11 +4.4 °C (40 °F) to +7.2 °C (50 °F)',\n",
       " 'Plant Height: Varies greatly by species and cultivated variety.',\n",
       " 'Plant Spread: Varies greatly by species and cultivated variety.',\n",
       " 'Leaves: Other: Varies greatly by species and cultivated variety.',\n",
       " 'Fruit: Showy\\nEdible to birds',\n",
       " 'Fruiting Time: Other: Varies greatly by species and cultivated variety.',\n",
       " 'Flower Color: Yellow',\n",
       " 'Bloom Size: Under 1\"',\n",
       " 'Flower Time: Other: Varies greatly by species and cultivated variety.',\n",
       " 'Uses: Vegetable\\nSuitable as Annual',\n",
       " 'Edible Parts: Fruit',\n",
       " 'Eating Methods: Raw\\nCooked',\n",
       " 'Resistances: Rabbit Resistant',\n",
       " 'Toxicity: Leaves are poisonous\\nRoots are poisonous',\n",
       " 'Propagation: Seeds: Self fertile\\nOther info: Direct sowing into the garden not recommended. Sow seeds into sterile seed starting mix, 1/8\"-1/4\" deep, indoors, 6-8 weeks prior to last expected frost date. Optimal germination occurs in 7-14 days with constant moisture and soil temperatures of 75-90F.',\n",
       " 'Propagation: Other methods: Cuttings: Stem',\n",
       " 'Pollinators: Self\\nVarious insects',\n",
       " 'Containers: Preferred depth: Some tomato varieties, primarily dwarf and determinate varieties, are suitable for container gardening. Large, vining, indeterminate types can be grown in 5 gallon or larger containers but may require extra attention.']"
      ]
     },
     "execution_count": 41,
     "metadata": {},
     "output_type": "execute_result"
    }
   ],
   "source": [
    "tomato_data"
   ]
  },
  {
   "cell_type": "code",
   "execution_count": 25,
   "metadata": {},
   "outputs": [],
   "source": [
    "def crawl_tomato_data(url):\n",
    "\n",
    "# for url in page_urls_unique:\n",
    "    driver.get(url) \n",
    "    tomato_table = driver.find_element(By.TAG_NAME, 'tbody')\n",
    "    tr_tags = tomato_table.find_elements(By.TAG_NAME, 'tr')\n",
    "    tomato_data = []\n",
    "    for tr_tag in tr_tags:\n",
    "        tomato_data.append(tr_tag.text)\n",
    "    \n",
    "    return tomato_data"
   ]
  },
  {
   "cell_type": "code",
   "execution_count": 32,
   "metadata": {},
   "outputs": [
    {
     "ename": "NoSuchElementException",
     "evalue": "Message: no such element: Unable to locate element: {\"method\":\"tag name\",\"selector\":\"tbody\"}\n  (Session info: chrome=111.0.5563.146)\nStacktrace:\n0   chromedriver                        0x0000000103ada428 chromedriver + 4899880\n1   chromedriver                        0x0000000103a57a23 chromedriver + 4364835\n2   chromedriver                        0x00000001036a1bf6 chromedriver + 474102\n3   chromedriver                        0x00000001036e54f0 chromedriver + 750832\n4   chromedriver                        0x00000001036e5751 chromedriver + 751441\n5   chromedriver                        0x0000000103729834 chromedriver + 1030196\n6   chromedriver                        0x000000010370b58d chromedriver + 906637\n7   chromedriver                        0x0000000103726b5b chromedriver + 1018715\n8   chromedriver                        0x000000010370b333 chromedriver + 906035\n9   chromedriver                        0x00000001036d555f chromedriver + 685407\n10  chromedriver                        0x00000001036d6a7e chromedriver + 690814\n11  chromedriver                        0x0000000103aa779e chromedriver + 4691870\n12  chromedriver                        0x0000000103aac961 chromedriver + 4712801\n13  chromedriver                        0x0000000103ab32ff chromedriver + 4739839\n14  chromedriver                        0x0000000103aad85a chromedriver + 4716634\n15  chromedriver                        0x0000000103a7ffce chromedriver + 4530126\n16  chromedriver                        0x0000000103acd5c8 chromedriver + 4847048\n17  chromedriver                        0x0000000103acd747 chromedriver + 4847431\n18  chromedriver                        0x0000000103ae287f chromedriver + 4933759\n19  libsystem_pthread.dylib             0x00007ff8185fc4e1 _pthread_start + 125\n20  libsystem_pthread.dylib             0x00007ff8185f7f6b thread_start + 15\n",
     "output_type": "error",
     "traceback": [
      "\u001b[0;31m---------------------------------------------------------------------------\u001b[0m",
      "\u001b[0;31mNoSuchElementException\u001b[0m                    Traceback (most recent call last)",
      "Cell \u001b[0;32mIn[32], line 3\u001b[0m\n\u001b[1;32m      1\u001b[0m all_tomato_data \u001b[39m=\u001b[39m []\n\u001b[1;32m      2\u001b[0m \u001b[39mfor\u001b[39;00m url \u001b[39min\u001b[39;00m page_urls_unique:\n\u001b[0;32m----> 3\u001b[0m     all_tomato_data\u001b[39m.\u001b[39mappend(crawl_tomato_data(url))\n",
      "Cell \u001b[0;32mIn[25], line 5\u001b[0m, in \u001b[0;36mcrawl_tomato_data\u001b[0;34m(url)\u001b[0m\n\u001b[1;32m      1\u001b[0m \u001b[39mdef\u001b[39;00m \u001b[39mcrawl_tomato_data\u001b[39m(url):\n\u001b[1;32m      2\u001b[0m \n\u001b[1;32m      3\u001b[0m \u001b[39m# for url in page_urls_unique:\u001b[39;00m\n\u001b[1;32m      4\u001b[0m     driver\u001b[39m.\u001b[39mget(url) \n\u001b[0;32m----> 5\u001b[0m     tomato_table \u001b[39m=\u001b[39m driver\u001b[39m.\u001b[39;49mfind_element(By\u001b[39m.\u001b[39;49mTAG_NAME, \u001b[39m'\u001b[39;49m\u001b[39mtbody\u001b[39;49m\u001b[39m'\u001b[39;49m)\n\u001b[1;32m      6\u001b[0m     td_tags \u001b[39m=\u001b[39m tomato_table\u001b[39m.\u001b[39mfind_elements(By\u001b[39m.\u001b[39mTAG_NAME, \u001b[39m'\u001b[39m\u001b[39mtd\u001b[39m\u001b[39m'\u001b[39m)\n\u001b[1;32m      7\u001b[0m     tomato_data \u001b[39m=\u001b[39m []\n",
      "File \u001b[0;32m~/umich/course/SI507/.venv/lib/python3.11/site-packages/selenium/webdriver/remote/webdriver.py:831\u001b[0m, in \u001b[0;36mWebDriver.find_element\u001b[0;34m(self, by, value)\u001b[0m\n\u001b[1;32m    828\u001b[0m     by \u001b[39m=\u001b[39m By\u001b[39m.\u001b[39mCSS_SELECTOR\n\u001b[1;32m    829\u001b[0m     value \u001b[39m=\u001b[39m \u001b[39mf\u001b[39m\u001b[39m'\u001b[39m\u001b[39m[name=\u001b[39m\u001b[39m\"\u001b[39m\u001b[39m{\u001b[39;00mvalue\u001b[39m}\u001b[39;00m\u001b[39m\"\u001b[39m\u001b[39m]\u001b[39m\u001b[39m'\u001b[39m\n\u001b[0;32m--> 831\u001b[0m \u001b[39mreturn\u001b[39;00m \u001b[39mself\u001b[39;49m\u001b[39m.\u001b[39;49mexecute(Command\u001b[39m.\u001b[39;49mFIND_ELEMENT, {\u001b[39m\"\u001b[39;49m\u001b[39musing\u001b[39;49m\u001b[39m\"\u001b[39;49m: by, \u001b[39m\"\u001b[39;49m\u001b[39mvalue\u001b[39;49m\u001b[39m\"\u001b[39;49m: value})[\u001b[39m\"\u001b[39m\u001b[39mvalue\u001b[39m\u001b[39m\"\u001b[39m]\n",
      "File \u001b[0;32m~/umich/course/SI507/.venv/lib/python3.11/site-packages/selenium/webdriver/remote/webdriver.py:440\u001b[0m, in \u001b[0;36mWebDriver.execute\u001b[0;34m(self, driver_command, params)\u001b[0m\n\u001b[1;32m    438\u001b[0m response \u001b[39m=\u001b[39m \u001b[39mself\u001b[39m\u001b[39m.\u001b[39mcommand_executor\u001b[39m.\u001b[39mexecute(driver_command, params)\n\u001b[1;32m    439\u001b[0m \u001b[39mif\u001b[39;00m response:\n\u001b[0;32m--> 440\u001b[0m     \u001b[39mself\u001b[39;49m\u001b[39m.\u001b[39;49merror_handler\u001b[39m.\u001b[39;49mcheck_response(response)\n\u001b[1;32m    441\u001b[0m     response[\u001b[39m\"\u001b[39m\u001b[39mvalue\u001b[39m\u001b[39m\"\u001b[39m] \u001b[39m=\u001b[39m \u001b[39mself\u001b[39m\u001b[39m.\u001b[39m_unwrap_value(response\u001b[39m.\u001b[39mget(\u001b[39m\"\u001b[39m\u001b[39mvalue\u001b[39m\u001b[39m\"\u001b[39m, \u001b[39mNone\u001b[39;00m))\n\u001b[1;32m    442\u001b[0m     \u001b[39mreturn\u001b[39;00m response\n",
      "File \u001b[0;32m~/umich/course/SI507/.venv/lib/python3.11/site-packages/selenium/webdriver/remote/errorhandler.py:245\u001b[0m, in \u001b[0;36mErrorHandler.check_response\u001b[0;34m(self, response)\u001b[0m\n\u001b[1;32m    243\u001b[0m         alert_text \u001b[39m=\u001b[39m value[\u001b[39m\"\u001b[39m\u001b[39malert\u001b[39m\u001b[39m\"\u001b[39m]\u001b[39m.\u001b[39mget(\u001b[39m\"\u001b[39m\u001b[39mtext\u001b[39m\u001b[39m\"\u001b[39m)\n\u001b[1;32m    244\u001b[0m     \u001b[39mraise\u001b[39;00m exception_class(message, screen, stacktrace, alert_text)  \u001b[39m# type: ignore[call-arg]  # mypy is not smart enough here\u001b[39;00m\n\u001b[0;32m--> 245\u001b[0m \u001b[39mraise\u001b[39;00m exception_class(message, screen, stacktrace)\n",
      "\u001b[0;31mNoSuchElementException\u001b[0m: Message: no such element: Unable to locate element: {\"method\":\"tag name\",\"selector\":\"tbody\"}\n  (Session info: chrome=111.0.5563.146)\nStacktrace:\n0   chromedriver                        0x0000000103ada428 chromedriver + 4899880\n1   chromedriver                        0x0000000103a57a23 chromedriver + 4364835\n2   chromedriver                        0x00000001036a1bf6 chromedriver + 474102\n3   chromedriver                        0x00000001036e54f0 chromedriver + 750832\n4   chromedriver                        0x00000001036e5751 chromedriver + 751441\n5   chromedriver                        0x0000000103729834 chromedriver + 1030196\n6   chromedriver                        0x000000010370b58d chromedriver + 906637\n7   chromedriver                        0x0000000103726b5b chromedriver + 1018715\n8   chromedriver                        0x000000010370b333 chromedriver + 906035\n9   chromedriver                        0x00000001036d555f chromedriver + 685407\n10  chromedriver                        0x00000001036d6a7e chromedriver + 690814\n11  chromedriver                        0x0000000103aa779e chromedriver + 4691870\n12  chromedriver                        0x0000000103aac961 chromedriver + 4712801\n13  chromedriver                        0x0000000103ab32ff chromedriver + 4739839\n14  chromedriver                        0x0000000103aad85a chromedriver + 4716634\n15  chromedriver                        0x0000000103a7ffce chromedriver + 4530126\n16  chromedriver                        0x0000000103acd5c8 chromedriver + 4847048\n17  chromedriver                        0x0000000103acd747 chromedriver + 4847431\n18  chromedriver                        0x0000000103ae287f chromedriver + 4933759\n19  libsystem_pthread.dylib             0x00007ff8185fc4e1 _pthread_start + 125\n20  libsystem_pthread.dylib             0x00007ff8185f7f6b thread_start + 15\n"
     ]
    }
   ],
   "source": [
    "all_tomato_data = []\n",
    "for url in page_urls_unique:\n",
    "    all_tomato_data.append(crawl_tomato_data(url))"
   ]
  },
  {
   "cell_type": "code",
   "execution_count": 13,
   "metadata": {},
   "outputs": [],
   "source": [
    "titles = []\n",
    "\n",
    "for a_tag in a_tags:\n",
    "    titles.append(a_tag.text)"
   ]
  },
  {
   "cell_type": "code",
   "execution_count": 15,
   "metadata": {},
   "outputs": [
    {
     "data": {
      "text/plain": [
       "40"
      ]
     },
     "execution_count": 15,
     "metadata": {},
     "output_type": "execute_result"
    }
   ],
   "source": [
    "len(titles)"
   ]
  },
  {
   "cell_type": "code",
   "execution_count": 19,
   "metadata": {},
   "outputs": [],
   "source": [
    "a_tags[0].click() # you have been blocked"
   ]
  },
  {
   "cell_type": "code",
   "execution_count": null,
   "metadata": {},
   "outputs": [],
   "source": [
    "a_tags[0].screenshot_as_png"
   ]
  },
  {
   "cell_type": "code",
   "execution_count": null,
   "metadata": {},
   "outputs": [],
   "source": [
    "driver.get('https://garden.org/plants/browse/plants/children/77653/popular/') "
   ]
  }
 ],
 "metadata": {
  "kernelspec": {
   "display_name": ".venv",
   "language": "python",
   "name": "python3"
  },
  "language_info": {
   "codemirror_mode": {
    "name": "ipython",
    "version": 3
   },
   "file_extension": ".py",
   "mimetype": "text/x-python",
   "name": "python",
   "nbconvert_exporter": "python",
   "pygments_lexer": "ipython3",
   "version": "3.11.1"
  },
  "orig_nbformat": 4
 },
 "nbformat": 4,
 "nbformat_minor": 2
}
